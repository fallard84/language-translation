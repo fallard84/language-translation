{
 "cells": [
  {
   "cell_type": "markdown",
   "metadata": {
    "collapsed": true
   },
   "source": [
    "# Language Translation\n",
    "In this project, you’re going to take a peek into the realm of neural network machine translation.  You’ll be training a sequence to sequence model on a dataset of English and French sentences that can translate new sentences from English to French.\n",
    "## Get the Data\n",
    "Since translating the whole language of English to French will take lots of time to train, we have provided you with a small portion of the English corpus."
   ]
  },
  {
   "cell_type": "code",
   "execution_count": 1,
   "metadata": {},
   "outputs": [],
   "source": [
    "\"\"\"\n",
    "DON'T MODIFY ANYTHING IN THIS CELL\n",
    "\"\"\"\n",
    "import helper\n",
    "import problem_unittests as tests\n",
    "\n",
    "source_path = 'data/small_vocab_en'\n",
    "target_path = 'data/small_vocab_fr'\n",
    "source_text = helper.load_data(source_path)\n",
    "target_text = helper.load_data(target_path)"
   ]
  },
  {
   "cell_type": "markdown",
   "metadata": {},
   "source": [
    "## Explore the Data\n",
    "Play around with view_sentence_range to view different parts of the data."
   ]
  },
  {
   "cell_type": "code",
   "execution_count": 2,
   "metadata": {},
   "outputs": [
    {
     "name": "stdout",
     "output_type": "stream",
     "text": [
      "Dataset Stats\n",
      "Roughly the number of unique words: 227\n",
      "Number of sentences: 137861\n",
      "Average number of words in a sentence: 13.225277634719028\n",
      "\n",
      "English sentences 0 to 10:\n",
      "new jersey is sometimes quiet during autumn , and it is snowy in april .\n",
      "the united states is usually chilly during july , and it is usually freezing in november .\n",
      "california is usually quiet during march , and it is usually hot in june .\n",
      "the united states is sometimes mild during june , and it is cold in september .\n",
      "your least liked fruit is the grape , but my least liked is the apple .\n",
      "his favorite fruit is the orange , but my favorite is the grape .\n",
      "paris is relaxing during december , but it is usually chilly in july .\n",
      "new jersey is busy during spring , and it is never hot in march .\n",
      "our least liked fruit is the lemon , but my least liked is the grape .\n",
      "the united states is sometimes busy during january , and it is sometimes warm in november .\n",
      "\n",
      "French sentences 0 to 10:\n",
      "new jersey est parfois calme pendant l' automne , et il est neigeux en avril .\n",
      "les états-unis est généralement froid en juillet , et il gèle habituellement en novembre .\n",
      "california est généralement calme en mars , et il est généralement chaud en juin .\n",
      "les états-unis est parfois légère en juin , et il fait froid en septembre .\n",
      "votre moins aimé fruit est le raisin , mais mon moins aimé est la pomme .\n",
      "son fruit préféré est l'orange , mais mon préféré est le raisin .\n",
      "paris est relaxant en décembre , mais il est généralement froid en juillet .\n",
      "new jersey est occupé au printemps , et il est jamais chaude en mars .\n",
      "notre fruit est moins aimé le citron , mais mon moins aimé est le raisin .\n",
      "les états-unis est parfois occupé en janvier , et il est parfois chaud en novembre .\n"
     ]
    }
   ],
   "source": [
    "view_sentence_range = (0, 10)\n",
    "\n",
    "\"\"\"\n",
    "DON'T MODIFY ANYTHING IN THIS CELL\n",
    "\"\"\"\n",
    "import numpy as np\n",
    "\n",
    "print('Dataset Stats')\n",
    "print('Roughly the number of unique words: {}'.format(len({word: None for word in source_text.split()})))\n",
    "\n",
    "sentences = source_text.split('\\n')\n",
    "word_counts = [len(sentence.split()) for sentence in sentences]\n",
    "print('Number of sentences: {}'.format(len(sentences)))\n",
    "print('Average number of words in a sentence: {}'.format(np.average(word_counts)))\n",
    "\n",
    "print()\n",
    "print('English sentences {} to {}:'.format(*view_sentence_range))\n",
    "print('\\n'.join(source_text.split('\\n')[view_sentence_range[0]:view_sentence_range[1]]))\n",
    "print()\n",
    "print('French sentences {} to {}:'.format(*view_sentence_range))\n",
    "print('\\n'.join(target_text.split('\\n')[view_sentence_range[0]:view_sentence_range[1]]))"
   ]
  },
  {
   "cell_type": "markdown",
   "metadata": {},
   "source": [
    "## Implement Preprocessing Function\n",
    "### Text to Word Ids\n",
    "As you did with other RNNs, you must turn the text into a number so the computer can understand it. In the function `text_to_ids()`, you'll turn `source_text` and `target_text` from words to ids.  However, you need to add the `<EOS>` word id at the end of `target_text`.  This will help the neural network predict when the sentence should end.\n",
    "\n",
    "You can get the `<EOS>` word id by doing:\n",
    "```python\n",
    "target_vocab_to_int['<EOS>']\n",
    "```\n",
    "You can get other word ids using `source_vocab_to_int` and `target_vocab_to_int`."
   ]
  },
  {
   "cell_type": "code",
   "execution_count": 3,
   "metadata": {},
   "outputs": [
    {
     "name": "stdout",
     "output_type": "stream",
     "text": [
      "Tests Passed\n"
     ]
    }
   ],
   "source": [
    "def text_to_ids(source_text, target_text, source_vocab_to_int, target_vocab_to_int):\n",
    "    \"\"\"\n",
    "    Convert source and target text to proper word ids\n",
    "    :param source_text: String that contains all the source text.\n",
    "    :param target_text: String that contains all the target text.\n",
    "    :param source_vocab_to_int: Dictionary to go from the source words to an id\n",
    "    :param target_vocab_to_int: Dictionary to go from the target words to an id\n",
    "    :return: A tuple of lists (source_id_text, target_id_text)\n",
    "    \"\"\"\n",
    "    def source_sentence_to_ids(source_sentence):\n",
    "        return [source_vocab_to_int[word] for word in source_sentence.split()]\n",
    "    \n",
    "    def target_sentence_to_ids(target_sentence):\n",
    "        return [target_vocab_to_int[word] for word in target_sentence.split()] + [target_vocab_to_int['<EOS>']]\n",
    "    \n",
    "    # TODO: Implement Function\n",
    "    source_id_text = [source_sentence_to_ids(source_sentence) for source_sentence in source_text.split('\\n')]\n",
    "    target_id_text = [target_sentence_to_ids(target_sentence) for target_sentence in target_text.split('\\n')] \n",
    "    return source_id_text, target_id_text\n",
    "\n",
    "\"\"\"\n",
    "DON'T MODIFY ANYTHING IN THIS CELL THAT IS BELOW THIS LINE\n",
    "\"\"\"\n",
    "tests.test_text_to_ids(text_to_ids)"
   ]
  },
  {
   "cell_type": "markdown",
   "metadata": {},
   "source": [
    "### Preprocess all the data and save it\n",
    "Running the code cell below will preprocess all the data and save it to file."
   ]
  },
  {
   "cell_type": "code",
   "execution_count": 4,
   "metadata": {},
   "outputs": [],
   "source": [
    "\"\"\"\n",
    "DON'T MODIFY ANYTHING IN THIS CELL\n",
    "\"\"\"\n",
    "helper.preprocess_and_save_data(source_path, target_path, text_to_ids)"
   ]
  },
  {
   "cell_type": "markdown",
   "metadata": {},
   "source": [
    "# Check Point\n",
    "This is your first checkpoint. If you ever decide to come back to this notebook or have to restart the notebook, you can start from here. The preprocessed data has been saved to disk."
   ]
  },
  {
   "cell_type": "code",
   "execution_count": 5,
   "metadata": {},
   "outputs": [],
   "source": [
    "\"\"\"\n",
    "DON'T MODIFY ANYTHING IN THIS CELL\n",
    "\"\"\"\n",
    "import numpy as np\n",
    "import helper\n",
    "import problem_unittests as tests\n",
    "\n",
    "(source_int_text, target_int_text), (source_vocab_to_int, target_vocab_to_int), _ = helper.load_preprocess()"
   ]
  },
  {
   "cell_type": "markdown",
   "metadata": {},
   "source": [
    "### Check the Version of TensorFlow and Access to GPU\n",
    "This will check to make sure you have the correct version of TensorFlow and access to a GPU"
   ]
  },
  {
   "cell_type": "code",
   "execution_count": 6,
   "metadata": {},
   "outputs": [
    {
     "name": "stdout",
     "output_type": "stream",
     "text": [
      "TensorFlow Version: 1.3.0\n",
      "Default GPU Device: /gpu:0\n"
     ]
    }
   ],
   "source": [
    "\"\"\"\n",
    "DON'T MODIFY ANYTHING IN THIS CELL\n",
    "\"\"\"\n",
    "from distutils.version import LooseVersion\n",
    "import warnings\n",
    "import tensorflow as tf\n",
    "from tensorflow.python.layers.core import Dense\n",
    "\n",
    "# Check TensorFlow Version\n",
    "assert LooseVersion(tf.__version__) >= LooseVersion('1.1'), 'Please use TensorFlow version 1.1 or newer'\n",
    "print('TensorFlow Version: {}'.format(tf.__version__))\n",
    "\n",
    "# Check for a GPU\n",
    "if not tf.test.gpu_device_name():\n",
    "    warnings.warn('No GPU found. Please use a GPU to train your neural network.')\n",
    "else:\n",
    "    print('Default GPU Device: {}'.format(tf.test.gpu_device_name()))"
   ]
  },
  {
   "cell_type": "markdown",
   "metadata": {},
   "source": [
    "## Build the Neural Network\n",
    "You'll build the components necessary to build a Sequence-to-Sequence model by implementing the following functions below:\n",
    "- `model_inputs`\n",
    "- `process_decoder_input`\n",
    "- `encoding_layer`\n",
    "- `decoding_layer_train`\n",
    "- `decoding_layer_infer`\n",
    "- `decoding_layer`\n",
    "- `seq2seq_model`\n",
    "\n",
    "### Input\n",
    "Implement the `model_inputs()` function to create TF Placeholders for the Neural Network. It should create the following placeholders:\n",
    "\n",
    "- Input text placeholder named \"input\" using the TF Placeholder name parameter with rank 2.\n",
    "- Targets placeholder with rank 2.\n",
    "- Learning rate placeholder with rank 0.\n",
    "- Keep probability placeholder named \"keep_prob\" using the TF Placeholder name parameter with rank 0.\n",
    "- Target sequence length placeholder named \"target_sequence_length\" with rank 1\n",
    "- Max target sequence length tensor named \"max_target_len\" getting its value from applying tf.reduce_max on the target_sequence_length placeholder. Rank 0.\n",
    "- Source sequence length placeholder named \"source_sequence_length\" with rank 1\n",
    "\n",
    "Return the placeholders in the following the tuple (input, targets, learning rate, keep probability, target sequence length, max target sequence length, source sequence length)"
   ]
  },
  {
   "cell_type": "code",
   "execution_count": 11,
   "metadata": {},
   "outputs": [
    {
     "name": "stdout",
     "output_type": "stream",
     "text": [
      "ERROR:tensorflow:==================================\n",
      "Object was never used (type <class 'tensorflow.python.framework.ops.Operation'>):\n",
      "<tf.Operation 'assert_rank_2/Assert/Assert' type=Assert>\n",
      "If you want to mark it as used call its \"mark_used()\" method.\n",
      "It was originally created here:\n",
      "['File \"/usr/local/lib/python3.6/runpy.py\", line 193, in _run_module_as_main\\n    \"__main__\", mod_spec)', 'File \"/usr/local/lib/python3.6/runpy.py\", line 85, in _run_code\\n    exec(code, run_globals)', 'File \"/usr/local/lib/python3.6/site-packages/ipykernel_launcher.py\", line 16, in <module>\\n    app.launch_new_instance()', 'File \"/usr/local/lib/python3.6/site-packages/traitlets/config/application.py\", line 658, in launch_instance\\n    app.start()', 'File \"/usr/local/lib/python3.6/site-packages/ipykernel/kernelapp.py\", line 477, in start\\n    ioloop.IOLoop.instance().start()', 'File \"/usr/local/lib/python3.6/site-packages/zmq/eventloop/ioloop.py\", line 177, in start\\n    super(ZMQIOLoop, self).start()', 'File \"/usr/local/lib/python3.6/site-packages/tornado/ioloop.py\", line 888, in start\\n    handler_func(fd_obj, events)', 'File \"/usr/local/lib/python3.6/site-packages/tornado/stack_context.py\", line 277, in null_wrapper\\n    return fn(*args, **kwargs)', 'File \"/usr/local/lib/python3.6/site-packages/zmq/eventloop/zmqstream.py\", line 440, in _handle_events\\n    self._handle_recv()', 'File \"/usr/local/lib/python3.6/site-packages/zmq/eventloop/zmqstream.py\", line 472, in _handle_recv\\n    self._run_callback(callback, msg)', 'File \"/usr/local/lib/python3.6/site-packages/zmq/eventloop/zmqstream.py\", line 414, in _run_callback\\n    callback(*args, **kwargs)', 'File \"/usr/local/lib/python3.6/site-packages/tornado/stack_context.py\", line 277, in null_wrapper\\n    return fn(*args, **kwargs)', 'File \"/usr/local/lib/python3.6/site-packages/ipykernel/kernelbase.py\", line 283, in dispatcher\\n    return self.dispatch_shell(stream, msg)', 'File \"/usr/local/lib/python3.6/site-packages/ipykernel/kernelbase.py\", line 235, in dispatch_shell\\n    handler(stream, idents, msg)', 'File \"/usr/local/lib/python3.6/site-packages/ipykernel/kernelbase.py\", line 399, in execute_request\\n    user_expressions, allow_stdin)', 'File \"/usr/local/lib/python3.6/site-packages/ipykernel/ipkernel.py\", line 196, in do_execute\\n    res = shell.run_cell(code, store_history=store_history, silent=silent)', 'File \"/usr/local/lib/python3.6/site-packages/ipykernel/zmqshell.py\", line 533, in run_cell\\n    return super(ZMQInteractiveShell, self).run_cell(*args, **kwargs)', 'File \"/usr/local/lib/python3.6/site-packages/IPython/core/interactiveshell.py\", line 2698, in run_cell\\n    interactivity=interactivity, compiler=compiler, result=result)', 'File \"/usr/local/lib/python3.6/site-packages/IPython/core/interactiveshell.py\", line 2808, in run_ast_nodes\\n    if self.run_code(code, result):', 'File \"/usr/local/lib/python3.6/site-packages/IPython/core/interactiveshell.py\", line 2862, in run_code\\n    exec(code_obj, self.user_global_ns, self.user_ns)', 'File \"<ipython-input-11-eca90999e7b2>\", line 22, in <module>\\n    tests.test_model_inputs(model_inputs)', 'File \"/output/problem_unittests.py\", line 106, in test_model_inputs\\n    assert tf.assert_rank(lr, 0, message=\\'Learning Rate has wrong rank\\')', 'File \"/usr/local/lib/python3.6/site-packages/tensorflow/python/ops/check_ops.py\", line 617, in assert_rank\\n    dynamic_condition, data, summarize)', 'File \"/usr/local/lib/python3.6/site-packages/tensorflow/python/ops/check_ops.py\", line 571, in _assert_rank_condition\\n    return control_flow_ops.Assert(condition, data, summarize=summarize)', 'File \"/usr/local/lib/python3.6/site-packages/tensorflow/python/util/tf_should_use.py\", line 175, in wrapped\\n    return _add_should_use_warning(fn(*args, **kwargs))', 'File \"/usr/local/lib/python3.6/site-packages/tensorflow/python/util/tf_should_use.py\", line 144, in _add_should_use_warning\\n    wrapped = TFShouldUseWarningWrapper(x)', 'File \"/usr/local/lib/python3.6/site-packages/tensorflow/python/util/tf_should_use.py\", line 101, in __init__\\n    stack = [s.strip() for s in traceback.format_stack()]']\n",
      "==================================\n",
      "ERROR:tensorflow:==================================\n",
      "Object was never used (type <class 'tensorflow.python.framework.ops.Operation'>):\n",
      "<tf.Operation 'assert_rank_3/Assert/Assert' type=Assert>\n",
      "If you want to mark it as used call its \"mark_used()\" method.\n",
      "It was originally created here:\n",
      "['File \"/usr/local/lib/python3.6/runpy.py\", line 193, in _run_module_as_main\\n    \"__main__\", mod_spec)', 'File \"/usr/local/lib/python3.6/runpy.py\", line 85, in _run_code\\n    exec(code, run_globals)', 'File \"/usr/local/lib/python3.6/site-packages/ipykernel_launcher.py\", line 16, in <module>\\n    app.launch_new_instance()', 'File \"/usr/local/lib/python3.6/site-packages/traitlets/config/application.py\", line 658, in launch_instance\\n    app.start()', 'File \"/usr/local/lib/python3.6/site-packages/ipykernel/kernelapp.py\", line 477, in start\\n    ioloop.IOLoop.instance().start()', 'File \"/usr/local/lib/python3.6/site-packages/zmq/eventloop/ioloop.py\", line 177, in start\\n    super(ZMQIOLoop, self).start()', 'File \"/usr/local/lib/python3.6/site-packages/tornado/ioloop.py\", line 888, in start\\n    handler_func(fd_obj, events)', 'File \"/usr/local/lib/python3.6/site-packages/tornado/stack_context.py\", line 277, in null_wrapper\\n    return fn(*args, **kwargs)', 'File \"/usr/local/lib/python3.6/site-packages/zmq/eventloop/zmqstream.py\", line 440, in _handle_events\\n    self._handle_recv()', 'File \"/usr/local/lib/python3.6/site-packages/zmq/eventloop/zmqstream.py\", line 472, in _handle_recv\\n    self._run_callback(callback, msg)', 'File \"/usr/local/lib/python3.6/site-packages/zmq/eventloop/zmqstream.py\", line 414, in _run_callback\\n    callback(*args, **kwargs)', 'File \"/usr/local/lib/python3.6/site-packages/tornado/stack_context.py\", line 277, in null_wrapper\\n    return fn(*args, **kwargs)', 'File \"/usr/local/lib/python3.6/site-packages/ipykernel/kernelbase.py\", line 283, in dispatcher\\n    return self.dispatch_shell(stream, msg)', 'File \"/usr/local/lib/python3.6/site-packages/ipykernel/kernelbase.py\", line 235, in dispatch_shell\\n    handler(stream, idents, msg)', 'File \"/usr/local/lib/python3.6/site-packages/ipykernel/kernelbase.py\", line 399, in execute_request\\n    user_expressions, allow_stdin)', 'File \"/usr/local/lib/python3.6/site-packages/ipykernel/ipkernel.py\", line 196, in do_execute\\n    res = shell.run_cell(code, store_history=store_history, silent=silent)', 'File \"/usr/local/lib/python3.6/site-packages/ipykernel/zmqshell.py\", line 533, in run_cell\\n    return super(ZMQInteractiveShell, self).run_cell(*args, **kwargs)', 'File \"/usr/local/lib/python3.6/site-packages/IPython/core/interactiveshell.py\", line 2698, in run_cell\\n    interactivity=interactivity, compiler=compiler, result=result)', 'File \"/usr/local/lib/python3.6/site-packages/IPython/core/interactiveshell.py\", line 2808, in run_ast_nodes\\n    if self.run_code(code, result):', 'File \"/usr/local/lib/python3.6/site-packages/IPython/core/interactiveshell.py\", line 2862, in run_code\\n    exec(code_obj, self.user_global_ns, self.user_ns)', 'File \"<ipython-input-11-eca90999e7b2>\", line 22, in <module>\\n    tests.test_model_inputs(model_inputs)', 'File \"/output/problem_unittests.py\", line 107, in test_model_inputs\\n    assert tf.assert_rank(keep_prob, 0, message=\\'Keep Probability has wrong rank\\')', 'File \"/usr/local/lib/python3.6/site-packages/tensorflow/python/ops/check_ops.py\", line 617, in assert_rank\\n    dynamic_condition, data, summarize)', 'File \"/usr/local/lib/python3.6/site-packages/tensorflow/python/ops/check_ops.py\", line 571, in _assert_rank_condition\\n    return control_flow_ops.Assert(condition, data, summarize=summarize)', 'File \"/usr/local/lib/python3.6/site-packages/tensorflow/python/util/tf_should_use.py\", line 175, in wrapped\\n    return _add_should_use_warning(fn(*args, **kwargs))', 'File \"/usr/local/lib/python3.6/site-packages/tensorflow/python/util/tf_should_use.py\", line 144, in _add_should_use_warning\\n    wrapped = TFShouldUseWarningWrapper(x)', 'File \"/usr/local/lib/python3.6/site-packages/tensorflow/python/util/tf_should_use.py\", line 101, in __init__\\n    stack = [s.strip() for s in traceback.format_stack()]']\n",
      "==================================\n"
     ]
    },
    {
     "name": "stdout",
     "output_type": "stream",
     "text": [
      "ERROR:tensorflow:==================================\n",
      "Object was never used (type <class 'tensorflow.python.framework.ops.Operation'>):\n",
      "<tf.Operation 'assert_rank_6/Assert/Assert' type=Assert>\n",
      "If you want to mark it as used call its \"mark_used()\" method.\n",
      "It was originally created here:\n",
      "['File \"/usr/local/lib/python3.6/runpy.py\", line 193, in _run_module_as_main\\n    \"__main__\", mod_spec)', 'File \"/usr/local/lib/python3.6/runpy.py\", line 85, in _run_code\\n    exec(code, run_globals)', 'File \"/usr/local/lib/python3.6/site-packages/ipykernel_launcher.py\", line 16, in <module>\\n    app.launch_new_instance()', 'File \"/usr/local/lib/python3.6/site-packages/traitlets/config/application.py\", line 658, in launch_instance\\n    app.start()', 'File \"/usr/local/lib/python3.6/site-packages/ipykernel/kernelapp.py\", line 477, in start\\n    ioloop.IOLoop.instance().start()', 'File \"/usr/local/lib/python3.6/site-packages/zmq/eventloop/ioloop.py\", line 177, in start\\n    super(ZMQIOLoop, self).start()', 'File \"/usr/local/lib/python3.6/site-packages/tornado/ioloop.py\", line 888, in start\\n    handler_func(fd_obj, events)', 'File \"/usr/local/lib/python3.6/site-packages/tornado/stack_context.py\", line 277, in null_wrapper\\n    return fn(*args, **kwargs)', 'File \"/usr/local/lib/python3.6/site-packages/zmq/eventloop/zmqstream.py\", line 440, in _handle_events\\n    self._handle_recv()', 'File \"/usr/local/lib/python3.6/site-packages/zmq/eventloop/zmqstream.py\", line 472, in _handle_recv\\n    self._run_callback(callback, msg)', 'File \"/usr/local/lib/python3.6/site-packages/zmq/eventloop/zmqstream.py\", line 414, in _run_callback\\n    callback(*args, **kwargs)', 'File \"/usr/local/lib/python3.6/site-packages/tornado/stack_context.py\", line 277, in null_wrapper\\n    return fn(*args, **kwargs)', 'File \"/usr/local/lib/python3.6/site-packages/ipykernel/kernelbase.py\", line 283, in dispatcher\\n    return self.dispatch_shell(stream, msg)', 'File \"/usr/local/lib/python3.6/site-packages/ipykernel/kernelbase.py\", line 235, in dispatch_shell\\n    handler(stream, idents, msg)', 'File \"/usr/local/lib/python3.6/site-packages/ipykernel/kernelbase.py\", line 399, in execute_request\\n    user_expressions, allow_stdin)', 'File \"/usr/local/lib/python3.6/site-packages/ipykernel/ipkernel.py\", line 196, in do_execute\\n    res = shell.run_cell(code, store_history=store_history, silent=silent)', 'File \"/usr/local/lib/python3.6/site-packages/ipykernel/zmqshell.py\", line 533, in run_cell\\n    return super(ZMQInteractiveShell, self).run_cell(*args, **kwargs)', 'File \"/usr/local/lib/python3.6/site-packages/IPython/core/interactiveshell.py\", line 2698, in run_cell\\n    interactivity=interactivity, compiler=compiler, result=result)', 'File \"/usr/local/lib/python3.6/site-packages/IPython/core/interactiveshell.py\", line 2808, in run_ast_nodes\\n    if self.run_code(code, result):', 'File \"/usr/local/lib/python3.6/site-packages/IPython/core/interactiveshell.py\", line 2862, in run_code\\n    exec(code_obj, self.user_global_ns, self.user_ns)', 'File \"<ipython-input-11-eca90999e7b2>\", line 22, in <module>\\n    tests.test_model_inputs(model_inputs)', 'File \"/output/problem_unittests.py\", line 110, in test_model_inputs\\n    assert tf.assert_rank(source_sequence_length, 1, message=\\'Source Sequence Lengthhas wrong rank\\')', 'File \"/usr/local/lib/python3.6/site-packages/tensorflow/python/ops/check_ops.py\", line 617, in assert_rank\\n    dynamic_condition, data, summarize)', 'File \"/usr/local/lib/python3.6/site-packages/tensorflow/python/ops/check_ops.py\", line 571, in _assert_rank_condition\\n    return control_flow_ops.Assert(condition, data, summarize=summarize)', 'File \"/usr/local/lib/python3.6/site-packages/tensorflow/python/util/tf_should_use.py\", line 175, in wrapped\\n    return _add_should_use_warning(fn(*args, **kwargs))', 'File \"/usr/local/lib/python3.6/site-packages/tensorflow/python/util/tf_should_use.py\", line 144, in _add_should_use_warning\\n    wrapped = TFShouldUseWarningWrapper(x)', 'File \"/usr/local/lib/python3.6/site-packages/tensorflow/python/util/tf_should_use.py\", line 101, in __init__\\n    stack = [s.strip() for s in traceback.format_stack()]']\n",
      "==================================\n",
      "Tests Passed\n"
     ]
    }
   ],
   "source": [
    "def model_inputs():\n",
    "    \"\"\"\n",
    "    Create TF Placeholders for input, targets, learning rate, and lengths of source and target sequences.\n",
    "    :return: Tuple (input, targets, learning rate, keep probability, target sequence length,\n",
    "    max target sequence length, source sequence length)\n",
    "    \"\"\"\n",
    "    # TODO: Implement Function\n",
    "    input = tf.placeholder(tf.int32,[None,None],name='input')\n",
    "    targets = tf.placeholder(tf.int32, [None,None])\n",
    "    learning_rate = tf.placeholder(tf.float32)\n",
    "    keep_prob = tf.placeholder(tf.float32,name='keep_prob')\n",
    "    target_sequence_length = tf.placeholder(tf.int32,[None], name='target_sequence_length')\n",
    "    max_target_sequence_length = tf.reduce_max(target_sequence_length,name='max_target_len')\n",
    "    source_sequence_length = tf.placeholder(tf.int32, name='source_sequence_length')\n",
    "    \n",
    "    return input, targets, learning_rate, keep_prob, target_sequence_length, max_target_sequence_length, source_sequence_length\n",
    "\n",
    "\n",
    "\"\"\"\n",
    "DON'T MODIFY ANYTHING IN THIS CELL THAT IS BELOW THIS LINE\n",
    "\"\"\"\n",
    "tests.test_model_inputs(model_inputs)"
   ]
  },
  {
   "cell_type": "markdown",
   "metadata": {},
   "source": [
    "### Process Decoder Input\n",
    "Implement `process_decoder_input` by removing the last word id from each batch in `target_data` and concat the GO ID to the begining of each batch."
   ]
  },
  {
   "cell_type": "code",
   "execution_count": 12,
   "metadata": {},
   "outputs": [
    {
     "name": "stdout",
     "output_type": "stream",
     "text": [
      "Tests Passed\n"
     ]
    }
   ],
   "source": [
    "def process_decoder_input(target_data, target_vocab_to_int, batch_size):\n",
    "    \"\"\"\n",
    "    Preprocess target data for encoding\n",
    "    :param target_data: Target Placehoder\n",
    "    :param target_vocab_to_int: Dictionary to go from the target words to an id\n",
    "    :param batch_size: Batch Size\n",
    "    :return: Preprocessed target data\n",
    "    \"\"\"\n",
    "    # TODO: Implement Function\n",
    "    def process_batch(batch):\n",
    "        go_int = tf.constant(target_vocab_to_int['<GO>'],tf.int32,[1])\n",
    "        return tf.concat([go_int, batch[:-1]], axis=0)\n",
    "    \n",
    "    target_data = tf.unstack(target_data,num=batch_size)\n",
    "    target_data = [process_batch(batch) for batch in target_data]  \n",
    "    target_data = tf.stack(target_data)\n",
    "    return target_data\n",
    "\n",
    "\"\"\"\n",
    "DON'T MODIFY ANYTHING IN THIS CELL THAT IS BELOW THIS LINE\n",
    "\"\"\"\n",
    "tests.test_process_encoding_input(process_decoder_input)"
   ]
  },
  {
   "cell_type": "markdown",
   "metadata": {},
   "source": [
    "### Encoding\n",
    "Implement `encoding_layer()` to create a Encoder RNN layer:\n",
    " * Embed the encoder input using [`tf.contrib.layers.embed_sequence`](https://www.tensorflow.org/api_docs/python/tf/contrib/layers/embed_sequence)\n",
    " * Construct a [stacked](https://github.com/tensorflow/tensorflow/blob/6947f65a374ebf29e74bb71e36fd82760056d82c/tensorflow/docs_src/tutorials/recurrent.md#stacking-multiple-lstms) [`tf.contrib.rnn.LSTMCell`](https://www.tensorflow.org/api_docs/python/tf/contrib/rnn/LSTMCell) wrapped in a [`tf.contrib.rnn.DropoutWrapper`](https://www.tensorflow.org/api_docs/python/tf/contrib/rnn/DropoutWrapper)\n",
    " * Pass cell and embedded input to [`tf.nn.dynamic_rnn()`](https://www.tensorflow.org/api_docs/python/tf/nn/dynamic_rnn)"
   ]
  },
  {
   "cell_type": "code",
   "execution_count": 13,
   "metadata": {
    "scrolled": false
   },
   "outputs": [
    {
     "name": "stdout",
     "output_type": "stream",
     "text": [
      "Tests Passed\n"
     ]
    }
   ],
   "source": [
    "from imp import reload\n",
    "reload(tests)\n",
    "\n",
    "def encoding_layer(rnn_inputs, rnn_size, num_layers, keep_prob, \n",
    "                   source_sequence_length, source_vocab_size, \n",
    "                   encoding_embedding_size):\n",
    "    \"\"\"\n",
    "    Create encoding layer\n",
    "    :param rnn_inputs: Inputs for the RNN\n",
    "    :param rnn_size: RNN Size\n",
    "    :param num_layers: Number of layers\n",
    "    :param keep_prob: Dropout keep probability\n",
    "    :param source_sequence_length: a list of the lengths of each sequence in the batch\n",
    "    :param source_vocab_size: vocabulary size of source data\n",
    "    :param encoding_embedding_size: embedding size of source data\n",
    "    :return: tuple (RNN output, RNN state)\n",
    "    \"\"\"\n",
    "    # TODO: Implement Function\n",
    "    embed = tf.contrib.layers.embed_sequence(rnn_inputs,source_vocab_size, encoding_embedding_size)\n",
    "    \n",
    "    def build_cell(rnn_size, keep_prob):\n",
    "        lstm = tf.contrib.rnn.LSTMCell(rnn_size)\n",
    "        drop = tf.contrib.rnn.DropoutWrapper(lstm, output_keep_prob=keep_prob)\n",
    "        return drop\n",
    "\n",
    "    cell = tf.contrib.rnn.MultiRNNCell([build_cell(rnn_size, keep_prob) for _ in range(num_layers)])\n",
    "    \n",
    "    output, state = tf.nn.dynamic_rnn(cell, embed, dtype=tf.float32)\n",
    "    return output, state\n",
    "\n",
    "\"\"\"\n",
    "DON'T MODIFY ANYTHING IN THIS CELL THAT IS BELOW THIS LINE\n",
    "\"\"\"\n",
    "tests.test_encoding_layer(encoding_layer)"
   ]
  },
  {
   "cell_type": "markdown",
   "metadata": {},
   "source": [
    "### Decoding - Training\n",
    "Create a training decoding layer:\n",
    "* Create a [`tf.contrib.seq2seq.TrainingHelper`](https://www.tensorflow.org/api_docs/python/tf/contrib/seq2seq/TrainingHelper) \n",
    "* Create a [`tf.contrib.seq2seq.BasicDecoder`](https://www.tensorflow.org/api_docs/python/tf/contrib/seq2seq/BasicDecoder)\n",
    "* Obtain the decoder outputs from [`tf.contrib.seq2seq.dynamic_decode`](https://www.tensorflow.org/api_docs/python/tf/contrib/seq2seq/dynamic_decode)"
   ]
  },
  {
   "cell_type": "code",
   "execution_count": 14,
   "metadata": {},
   "outputs": [
    {
     "name": "stdout",
     "output_type": "stream",
     "text": [
      "Tests Passed\n"
     ]
    }
   ],
   "source": [
    "\n",
    "def decoding_layer_train(encoder_state, dec_cell, dec_embed_input, \n",
    "                         target_sequence_length, max_summary_length, \n",
    "                         output_layer, keep_prob):\n",
    "    \"\"\"\n",
    "    Create a decoding layer for training\n",
    "    :param encoder_state: Encoder State\n",
    "    :param dec_cell: Decoder RNN Cell\n",
    "    :param dec_embed_input: Decoder embedded input\n",
    "    :param target_sequence_length: The lengths of each sequence in the target batch\n",
    "    :param max_summary_length: The length of the longest sequence in the batch\n",
    "    :param output_layer: Function to apply the output layer\n",
    "    :param keep_prob: Dropout keep probability\n",
    "    :return: BasicDecoderOutput containing training logits and sample_id\n",
    "    \"\"\"\n",
    "    # TODO: Implement Function\n",
    "    helper = tf.contrib.seq2seq.TrainingHelper(dec_embed_input, target_sequence_length)\n",
    "    basic_decoder = tf.contrib.seq2seq.BasicDecoder(dec_cell, helper, encoder_state, output_layer)\n",
    "    basic_decoder_output, _, _ = tf.contrib.seq2seq.dynamic_decode(basic_decoder, maximum_iterations = max_summary_length)\n",
    "    \n",
    "    return basic_decoder_output\n",
    "\n",
    "\n",
    "\n",
    "\"\"\"\n",
    "DON'T MODIFY ANYTHING IN THIS CELL THAT IS BELOW THIS LINE\n",
    "\"\"\"\n",
    "tests.test_decoding_layer_train(decoding_layer_train)"
   ]
  },
  {
   "cell_type": "markdown",
   "metadata": {},
   "source": [
    "### Decoding - Inference\n",
    "Create inference decoder:\n",
    "* Create a [`tf.contrib.seq2seq.GreedyEmbeddingHelper`](https://www.tensorflow.org/api_docs/python/tf/contrib/seq2seq/GreedyEmbeddingHelper)\n",
    "* Create a [`tf.contrib.seq2seq.BasicDecoder`](https://www.tensorflow.org/api_docs/python/tf/contrib/seq2seq/BasicDecoder)\n",
    "* Obtain the decoder outputs from [`tf.contrib.seq2seq.dynamic_decode`](https://www.tensorflow.org/api_docs/python/tf/contrib/seq2seq/dynamic_decode)"
   ]
  },
  {
   "cell_type": "code",
   "execution_count": 15,
   "metadata": {
    "scrolled": true
   },
   "outputs": [
    {
     "name": "stdout",
     "output_type": "stream",
     "text": [
      "Tests Passed\n"
     ]
    }
   ],
   "source": [
    "def decoding_layer_infer(encoder_state, dec_cell, dec_embeddings, start_of_sequence_id,\n",
    "                         end_of_sequence_id, max_target_sequence_length,\n",
    "                         vocab_size, output_layer, batch_size, keep_prob):\n",
    "    \"\"\"\n",
    "    Create a decoding layer for inference\n",
    "    :param encoder_state: Encoder state\n",
    "    :param dec_cell: Decoder RNN Cell\n",
    "    :param dec_embeddings: Decoder embeddings\n",
    "    :param start_of_sequence_id: GO ID\n",
    "    :param end_of_sequence_id: EOS Id\n",
    "    :param max_target_sequence_length: Maximum length of target sequences\n",
    "    :param vocab_size: Size of decoder/target vocabulary\n",
    "    :param decoding_scope: TenorFlow Variable Scope for decoding\n",
    "    :param output_layer: Function to apply the output layer\n",
    "    :param batch_size: Batch size\n",
    "    :param keep_prob: Dropout keep probability\n",
    "    :return: BasicDecoderOutput containing inference logits and sample_id\n",
    "    \"\"\"\n",
    "    # TODO: Implement Function\n",
    "    helper = tf.contrib.seq2seq.GreedyEmbeddingHelper(dec_embeddings, tf.tile([start_of_sequence_id], [batch_size]), end_of_sequence_id)\n",
    "    basic_decoder = tf.contrib.seq2seq.BasicDecoder(dec_cell, helper, encoder_state, output_layer)\n",
    "    basic_decoder_output, _, _ = tf.contrib.seq2seq.dynamic_decode(basic_decoder, maximum_iterations = max_target_sequence_length)\n",
    "    return basic_decoder_output\n",
    "\n",
    "\n",
    "\n",
    "\"\"\"\n",
    "DON'T MODIFY ANYTHING IN THIS CELL THAT IS BELOW THIS LINE\n",
    "\"\"\"\n",
    "tests.test_decoding_layer_infer(decoding_layer_infer)"
   ]
  },
  {
   "cell_type": "markdown",
   "metadata": {},
   "source": [
    "### Build the Decoding Layer\n",
    "Implement `decoding_layer()` to create a Decoder RNN layer.\n",
    "\n",
    "* Embed the target sequences\n",
    "* Construct the decoder LSTM cell (just like you constructed the encoder cell above)\n",
    "* Create an output layer to map the outputs of the decoder to the elements of our vocabulary\n",
    "* Use the your `decoding_layer_train(encoder_state, dec_cell, dec_embed_input, target_sequence_length, max_target_sequence_length, output_layer, keep_prob)` function to get the training logits.\n",
    "* Use your `decoding_layer_infer(encoder_state, dec_cell, dec_embeddings, start_of_sequence_id, end_of_sequence_id, max_target_sequence_length, vocab_size, output_layer, batch_size, keep_prob)` function to get the inference logits.\n",
    "\n",
    "Note: You'll need to use [tf.variable_scope](https://www.tensorflow.org/api_docs/python/tf/variable_scope) to share variables between training and inference."
   ]
  },
  {
   "cell_type": "code",
   "execution_count": 16,
   "metadata": {},
   "outputs": [
    {
     "name": "stdout",
     "output_type": "stream",
     "text": [
      "Tests Passed\n"
     ]
    }
   ],
   "source": [
    "def decoding_layer(dec_input, encoder_state,\n",
    "                   target_sequence_length, max_target_sequence_length,\n",
    "                   rnn_size,\n",
    "                   num_layers, target_vocab_to_int, target_vocab_size,\n",
    "                   batch_size, keep_prob, decoding_embedding_size):\n",
    "    \"\"\"\n",
    "    Create decoding layer\n",
    "    :param dec_input: Decoder input\n",
    "    :param encoder_state: Encoder state\n",
    "    :param target_sequence_length: The lengths of each sequence in the target batch\n",
    "    :param max_target_sequence_length: Maximum length of target sequences\n",
    "    :param rnn_size: RNN Size\n",
    "    :param num_layers: Number of layers\n",
    "    :param target_vocab_to_int: Dictionary to go from the target words to an id\n",
    "    :param target_vocab_size: Size of target vocabulary\n",
    "    :param batch_size: The size of the batch\n",
    "    :param keep_prob: Dropout keep probability\n",
    "    :param decoding_embedding_size: Decoding embedding size\n",
    "    :return: Tuple of (Training BasicDecoderOutput, Inference BasicDecoderOutput)\n",
    "    \"\"\"\n",
    "    # TODO: Implement Function\n",
    "            \n",
    "    embeddings = tf.Variable(tf.random_uniform([target_vocab_size, decoding_embedding_size], 0, 1))\n",
    "    embed = tf.nn.embedding_lookup(embeddings, dec_input)\n",
    "    \n",
    "    def build_cell(rnn_size, keep_prob):\n",
    "        lstm = tf.contrib.rnn.LSTMCell(rnn_size)\n",
    "        drop = tf.contrib.rnn.DropoutWrapper(lstm, output_keep_prob=keep_prob)\n",
    "        return drop\n",
    "\n",
    "    cell = tf.contrib.rnn.MultiRNNCell([build_cell(rnn_size, keep_prob) for _ in range(num_layers)])\n",
    "    \n",
    "    output_layer = Dense(target_vocab_size)\n",
    "    \n",
    "    with tf.variable_scope(\"decode\"):\n",
    "        training_logits = decoding_layer_train(encoder_state, cell, embed, \\\n",
    "                                               target_sequence_length, max_target_sequence_length, \\\n",
    "                                               output_layer, keep_prob)\n",
    "        \n",
    "    with tf.variable_scope(\"decode\", reuse=True):\n",
    "        inference_logits = decoding_layer_infer(encoder_state, cell, embeddings, \\\n",
    "                                                target_vocab_to_int['<GO>'], target_vocab_to_int['<EOS>'], \\\n",
    "                                                max_target_sequence_length, target_vocab_size, \\\n",
    "                                                output_layer, batch_size, keep_prob)\n",
    "    \n",
    "    return training_logits, inference_logits\n",
    "\n",
    "\n",
    "\n",
    "\"\"\"\n",
    "DON'T MODIFY ANYTHING IN THIS CELL THAT IS BELOW THIS LINE\n",
    "\"\"\"\n",
    "tests.test_decoding_layer(decoding_layer)"
   ]
  },
  {
   "cell_type": "markdown",
   "metadata": {},
   "source": [
    "### Build the Neural Network\n",
    "Apply the functions you implemented above to:\n",
    "\n",
    "- Encode the input using your `encoding_layer(rnn_inputs, rnn_size, num_layers, keep_prob,  source_sequence_length, source_vocab_size, encoding_embedding_size)`.\n",
    "- Process target data using your `process_decoder_input(target_data, target_vocab_to_int, batch_size)` function.\n",
    "- Decode the encoded input using your `decoding_layer(dec_input, enc_state, target_sequence_length, max_target_sentence_length, rnn_size, num_layers, target_vocab_to_int, target_vocab_size, batch_size, keep_prob, dec_embedding_size)` function."
   ]
  },
  {
   "cell_type": "code",
   "execution_count": 17,
   "metadata": {},
   "outputs": [
    {
     "name": "stdout",
     "output_type": "stream",
     "text": [
      "Tests Passed\n"
     ]
    }
   ],
   "source": [
    "def seq2seq_model(input_data, target_data, keep_prob, batch_size,\n",
    "                  source_sequence_length, target_sequence_length,\n",
    "                  max_target_sentence_length,\n",
    "                  source_vocab_size, target_vocab_size,\n",
    "                  enc_embedding_size, dec_embedding_size,\n",
    "                  rnn_size, num_layers, target_vocab_to_int):\n",
    "    \"\"\"\n",
    "    Build the Sequence-to-Sequence part of the neural network\n",
    "    :param input_data: Input placeholder\n",
    "    :param target_data: Target placeholder\n",
    "    :param keep_prob: Dropout keep probability placeholder\n",
    "    :param batch_size: Batch Size\n",
    "    :param source_sequence_length: Sequence Lengths of source sequences in the batch\n",
    "    :param target_sequence_length: Sequence Lengths of target sequences in the batch\n",
    "    :param source_vocab_size: Source vocabulary size\n",
    "    :param target_vocab_size: Target vocabulary size\n",
    "    :param enc_embedding_size: Decoder embedding size\n",
    "    :param dec_embedding_size: Encoder embedding size\n",
    "    :param rnn_size: RNN Size\n",
    "    :param num_layers: Number of layers\n",
    "    :param target_vocab_to_int: Dictionary to go from the target words to an id\n",
    "    :return: Tuple of (Training BasicDecoderOutput, Inference BasicDecoderOutput)\n",
    "    \"\"\"\n",
    "    # TODO: Implement Function\n",
    "    output, state = encoding_layer(input_data, rnn_size, num_layers, keep_prob,  source_sequence_length, \\\n",
    "                   source_vocab_size, enc_embedding_size)\n",
    "    \n",
    "    dec_input = process_decoder_input(target_data, target_vocab_to_int, batch_size)\n",
    "    \n",
    "    training_logits, inference_logits = decoding_layer(dec_input, state, target_sequence_length, max_target_sentence_length, \\\n",
    "                   rnn_size, num_layers, target_vocab_to_int, target_vocab_size, batch_size, \\\n",
    "                   keep_prob, dec_embedding_size)\n",
    "    \n",
    "    return training_logits, inference_logits\n",
    "\n",
    "\n",
    "\"\"\"\n",
    "DON'T MODIFY ANYTHING IN THIS CELL THAT IS BELOW THIS LINE\n",
    "\"\"\"\n",
    "tests.test_seq2seq_model(seq2seq_model)"
   ]
  },
  {
   "cell_type": "markdown",
   "metadata": {},
   "source": [
    "## Neural Network Training\n",
    "### Hyperparameters\n",
    "Tune the following parameters:\n",
    "\n",
    "- Set `epochs` to the number of epochs.\n",
    "- Set `batch_size` to the batch size.\n",
    "- Set `rnn_size` to the size of the RNNs.\n",
    "- Set `num_layers` to the number of layers.\n",
    "- Set `encoding_embedding_size` to the size of the embedding for the encoder.\n",
    "- Set `decoding_embedding_size` to the size of the embedding for the decoder.\n",
    "- Set `learning_rate` to the learning rate.\n",
    "- Set `keep_probability` to the Dropout keep probability\n",
    "- Set `display_step` to state how many steps between each debug output statement"
   ]
  },
  {
   "cell_type": "code",
   "execution_count": 45,
   "metadata": {},
   "outputs": [],
   "source": [
    "# Number of Epochs\n",
    "epochs = 3\n",
    "# Batch Size\n",
    "batch_size = 200\n",
    "# RNN Size\n",
    "rnn_size = 256\n",
    "# Number of Layers\n",
    "num_layers = 2\n",
    "# Embedding Size\n",
    "encoding_embedding_size = 200\n",
    "decoding_embedding_size = 200\n",
    "# Learning Rate\n",
    "learning_rate = 0.01\n",
    "# Dropout Keep Probability\n",
    "keep_probability = 0.5\n",
    "display_step = 20"
   ]
  },
  {
   "cell_type": "markdown",
   "metadata": {},
   "source": [
    "### Build the Graph\n",
    "Build the graph using the neural network you implemented."
   ]
  },
  {
   "cell_type": "code",
   "execution_count": 46,
   "metadata": {},
   "outputs": [],
   "source": [
    "\"\"\"\n",
    "DON'T MODIFY ANYTHING IN THIS CELL\n",
    "\"\"\"\n",
    "save_path = 'checkpoints/dev'\n",
    "(source_int_text, target_int_text), (source_vocab_to_int, target_vocab_to_int), _ = helper.load_preprocess()\n",
    "max_target_sentence_length = max([len(sentence) for sentence in source_int_text])\n",
    "\n",
    "train_graph = tf.Graph()\n",
    "with train_graph.as_default():\n",
    "    input_data, targets, lr, keep_prob, target_sequence_length, max_target_sequence_length, source_sequence_length = model_inputs()\n",
    "\n",
    "    #sequence_length = tf.placeholder_with_default(max_target_sentence_length, None, name='sequence_length')\n",
    "    input_shape = tf.shape(input_data)\n",
    "\n",
    "    train_logits, inference_logits = seq2seq_model(tf.reverse(input_data, [-1]),\n",
    "                                                   targets,\n",
    "                                                   keep_prob,\n",
    "                                                   batch_size,\n",
    "                                                   source_sequence_length,\n",
    "                                                   target_sequence_length,\n",
    "                                                   max_target_sequence_length,\n",
    "                                                   len(source_vocab_to_int),\n",
    "                                                   len(target_vocab_to_int),\n",
    "                                                   encoding_embedding_size,\n",
    "                                                   decoding_embedding_size,\n",
    "                                                   rnn_size,\n",
    "                                                   num_layers,\n",
    "                                                   target_vocab_to_int)\n",
    "\n",
    "\n",
    "    training_logits = tf.identity(train_logits.rnn_output, name='logits')\n",
    "    inference_logits = tf.identity(inference_logits.sample_id, name='predictions')\n",
    "\n",
    "    masks = tf.sequence_mask(target_sequence_length, max_target_sequence_length, dtype=tf.float32, name='masks')\n",
    "\n",
    "    with tf.name_scope(\"optimization\"):\n",
    "        # Loss function\n",
    "        cost = tf.contrib.seq2seq.sequence_loss(\n",
    "            training_logits,\n",
    "            targets,\n",
    "            masks)\n",
    "\n",
    "        # Optimizer\n",
    "        optimizer = tf.train.AdamOptimizer(lr)\n",
    "\n",
    "        # Gradient Clipping\n",
    "        gradients = optimizer.compute_gradients(cost)\n",
    "        capped_gradients = [(tf.clip_by_value(grad, -1., 1.), var) for grad, var in gradients if grad is not None]\n",
    "        train_op = optimizer.apply_gradients(capped_gradients)\n"
   ]
  },
  {
   "cell_type": "markdown",
   "metadata": {},
   "source": [
    "Batch and pad the source and target sequences"
   ]
  },
  {
   "cell_type": "code",
   "execution_count": 47,
   "metadata": {},
   "outputs": [],
   "source": [
    "\"\"\"\n",
    "DON'T MODIFY ANYTHING IN THIS CELL\n",
    "\"\"\"\n",
    "def pad_sentence_batch(sentence_batch, pad_int):\n",
    "    \"\"\"Pad sentences with <PAD> so that each sentence of a batch has the same length\"\"\"\n",
    "    max_sentence = max([len(sentence) for sentence in sentence_batch])\n",
    "    return [sentence + [pad_int] * (max_sentence - len(sentence)) for sentence in sentence_batch]\n",
    "\n",
    "\n",
    "def get_batches(sources, targets, batch_size, source_pad_int, target_pad_int):\n",
    "    \"\"\"Batch targets, sources, and the lengths of their sentences together\"\"\"\n",
    "    for batch_i in range(0, len(sources)//batch_size):\n",
    "        start_i = batch_i * batch_size\n",
    "\n",
    "        # Slice the right amount for the batch\n",
    "        sources_batch = sources[start_i:start_i + batch_size]\n",
    "        targets_batch = targets[start_i:start_i + batch_size]\n",
    "\n",
    "        # Pad\n",
    "        pad_sources_batch = np.array(pad_sentence_batch(sources_batch, source_pad_int))\n",
    "        pad_targets_batch = np.array(pad_sentence_batch(targets_batch, target_pad_int))\n",
    "\n",
    "        # Need the lengths for the _lengths parameters\n",
    "        pad_targets_lengths = []\n",
    "        for target in pad_targets_batch:\n",
    "            pad_targets_lengths.append(len(target))\n",
    "\n",
    "        pad_source_lengths = []\n",
    "        for source in pad_sources_batch:\n",
    "            pad_source_lengths.append(len(source))\n",
    "\n",
    "        yield pad_sources_batch, pad_targets_batch, pad_source_lengths, pad_targets_lengths\n"
   ]
  },
  {
   "cell_type": "markdown",
   "metadata": {},
   "source": [
    "### Train\n",
    "Train the neural network on the preprocessed data. If you have a hard time getting a good loss, check the forms to see if anyone is having the same problem."
   ]
  },
  {
   "cell_type": "code",
   "execution_count": 48,
   "metadata": {
    "scrolled": true
   },
   "outputs": [
    {
     "name": "stdout",
     "output_type": "stream",
     "text": [
      "Epoch   0 Batch   20/689 - Train Accuracy: 0.3921, Validation Accuracy: 0.4091, Loss: 2.7131\n",
      "Epoch   0 Batch   40/689 - Train Accuracy: 0.5045, Validation Accuracy: 0.5220, Loss: 2.2286\n",
      "Epoch   0 Batch   60/689 - Train Accuracy: 0.5224, Validation Accuracy: 0.5377, Loss: 1.8917\n",
      "Epoch   0 Batch   80/689 - Train Accuracy: 0.5210, Validation Accuracy: 0.5486, Loss: 1.5406\n",
      "Epoch   0 Batch  100/689 - Train Accuracy: 0.4593, Validation Accuracy: 0.4677, Loss: 1.1989\n",
      "Epoch   0 Batch  120/689 - Train Accuracy: 0.4340, Validation Accuracy: 0.5034, Loss: 1.0141\n",
      "Epoch   0 Batch  140/689 - Train Accuracy: 0.5583, Validation Accuracy: 0.5970, Loss: 0.8814\n",
      "Epoch   0 Batch  160/689 - Train Accuracy: 0.5911, Validation Accuracy: 0.5777, Loss: 0.7735\n",
      "Epoch   0 Batch  180/689 - Train Accuracy: 0.5817, Validation Accuracy: 0.6186, Loss: 0.7999\n",
      "Epoch   0 Batch  200/689 - Train Accuracy: 0.5952, Validation Accuracy: 0.6327, Loss: 0.7188\n",
      "Epoch   0 Batch  220/689 - Train Accuracy: 0.6274, Validation Accuracy: 0.6345, Loss: 0.6625\n",
      "Epoch   0 Batch  240/689 - Train Accuracy: 0.6489, Validation Accuracy: 0.6398, Loss: 0.6290\n",
      "Epoch   0 Batch  260/689 - Train Accuracy: 0.6225, Validation Accuracy: 0.6427, Loss: 0.6554\n",
      "Epoch   0 Batch  280/689 - Train Accuracy: 0.6380, Validation Accuracy: 0.6716, Loss: 0.5914\n",
      "Epoch   0 Batch  300/689 - Train Accuracy: 0.6562, Validation Accuracy: 0.6691, Loss: 0.5697\n",
      "Epoch   0 Batch  320/689 - Train Accuracy: 0.6580, Validation Accuracy: 0.6727, Loss: 0.5406\n",
      "Epoch   0 Batch  340/689 - Train Accuracy: 0.6570, Validation Accuracy: 0.6845, Loss: 0.5517\n",
      "Epoch   0 Batch  360/689 - Train Accuracy: 0.6935, Validation Accuracy: 0.6984, Loss: 0.5143\n",
      "Epoch   0 Batch  380/689 - Train Accuracy: 0.6863, Validation Accuracy: 0.6995, Loss: 0.4891\n",
      "Epoch   0 Batch  400/689 - Train Accuracy: 0.7211, Validation Accuracy: 0.7232, Loss: 0.4198\n",
      "Epoch   0 Batch  420/689 - Train Accuracy: 0.7430, Validation Accuracy: 0.7182, Loss: 0.4239\n",
      "Epoch   0 Batch  440/689 - Train Accuracy: 0.7610, Validation Accuracy: 0.7148, Loss: 0.4019\n",
      "Epoch   0 Batch  460/689 - Train Accuracy: 0.7358, Validation Accuracy: 0.7445, Loss: 0.3912\n",
      "Epoch   0 Batch  480/689 - Train Accuracy: 0.7985, Validation Accuracy: 0.7514, Loss: 0.3395\n",
      "Epoch   0 Batch  500/689 - Train Accuracy: 0.7726, Validation Accuracy: 0.7514, Loss: 0.3382\n",
      "Epoch   0 Batch  520/689 - Train Accuracy: 0.7724, Validation Accuracy: 0.7555, Loss: 0.3163\n",
      "Epoch   0 Batch  540/689 - Train Accuracy: 0.8076, Validation Accuracy: 0.7955, Loss: 0.2812\n",
      "Epoch   0 Batch  560/689 - Train Accuracy: 0.7917, Validation Accuracy: 0.8184, Loss: 0.3167\n",
      "Epoch   0 Batch  580/689 - Train Accuracy: 0.8210, Validation Accuracy: 0.7952, Loss: 0.2954\n",
      "Epoch   0 Batch  600/689 - Train Accuracy: 0.8257, Validation Accuracy: 0.8007, Loss: 0.2817\n",
      "Epoch   0 Batch  620/689 - Train Accuracy: 0.8421, Validation Accuracy: 0.8018, Loss: 0.2668\n",
      "Epoch   0 Batch  640/689 - Train Accuracy: 0.8420, Validation Accuracy: 0.8145, Loss: 0.2281\n",
      "Epoch   0 Batch  660/689 - Train Accuracy: 0.8507, Validation Accuracy: 0.8259, Loss: 0.2368\n",
      "Epoch   0 Batch  680/689 - Train Accuracy: 0.8445, Validation Accuracy: 0.8420, Loss: 0.2288\n",
      "Epoch   1 Batch   20/689 - Train Accuracy: 0.8793, Validation Accuracy: 0.8457, Loss: 0.1850\n",
      "Epoch   1 Batch   40/689 - Train Accuracy: 0.8812, Validation Accuracy: 0.8459, Loss: 0.1794\n",
      "Epoch   1 Batch   60/689 - Train Accuracy: 0.8855, Validation Accuracy: 0.8625, Loss: 0.1890\n",
      "Epoch   1 Batch   80/689 - Train Accuracy: 0.9033, Validation Accuracy: 0.8600, Loss: 0.1738\n",
      "Epoch   1 Batch  100/689 - Train Accuracy: 0.8793, Validation Accuracy: 0.8725, Loss: 0.1646\n",
      "Epoch   1 Batch  120/689 - Train Accuracy: 0.8695, Validation Accuracy: 0.8693, Loss: 0.1704\n",
      "Epoch   1 Batch  140/689 - Train Accuracy: 0.9277, Validation Accuracy: 0.8743, Loss: 0.1431\n",
      "Epoch   1 Batch  160/689 - Train Accuracy: 0.9150, Validation Accuracy: 0.8911, Loss: 0.1448\n",
      "Epoch   1 Batch  180/689 - Train Accuracy: 0.8940, Validation Accuracy: 0.8836, Loss: 0.1671\n",
      "Epoch   1 Batch  200/689 - Train Accuracy: 0.8888, Validation Accuracy: 0.8584, Loss: 0.1304\n",
      "Epoch   1 Batch  220/689 - Train Accuracy: 0.8845, Validation Accuracy: 0.8632, Loss: 0.1290\n",
      "Epoch   1 Batch  240/689 - Train Accuracy: 0.9034, Validation Accuracy: 0.8834, Loss: 0.1196\n",
      "Epoch   1 Batch  260/689 - Train Accuracy: 0.8812, Validation Accuracy: 0.8848, Loss: 0.1534\n",
      "Epoch   1 Batch  280/689 - Train Accuracy: 0.8770, Validation Accuracy: 0.8673, Loss: 0.1240\n",
      "Epoch   1 Batch  300/689 - Train Accuracy: 0.9163, Validation Accuracy: 0.8864, Loss: 0.1177\n",
      "Epoch   1 Batch  320/689 - Train Accuracy: 0.9105, Validation Accuracy: 0.8748, Loss: 0.1166\n",
      "Epoch   1 Batch  340/689 - Train Accuracy: 0.9090, Validation Accuracy: 0.8825, Loss: 0.1340\n",
      "Epoch   1 Batch  360/689 - Train Accuracy: 0.9065, Validation Accuracy: 0.8889, Loss: 0.1312\n",
      "Epoch   1 Batch  380/689 - Train Accuracy: 0.9247, Validation Accuracy: 0.8743, Loss: 0.1174\n",
      "Epoch   1 Batch  400/689 - Train Accuracy: 0.8986, Validation Accuracy: 0.9139, Loss: 0.1022\n",
      "Epoch   1 Batch  420/689 - Train Accuracy: 0.9313, Validation Accuracy: 0.9034, Loss: 0.0973\n",
      "Epoch   1 Batch  440/689 - Train Accuracy: 0.9147, Validation Accuracy: 0.9014, Loss: 0.0930\n",
      "Epoch   1 Batch  460/689 - Train Accuracy: 0.9187, Validation Accuracy: 0.8966, Loss: 0.1150\n",
      "Epoch   1 Batch  480/689 - Train Accuracy: 0.9337, Validation Accuracy: 0.9211, Loss: 0.0949\n",
      "Epoch   1 Batch  500/689 - Train Accuracy: 0.9033, Validation Accuracy: 0.8857, Loss: 0.0913\n",
      "Epoch   1 Batch  520/689 - Train Accuracy: 0.9010, Validation Accuracy: 0.9000, Loss: 0.0957\n",
      "Epoch   1 Batch  540/689 - Train Accuracy: 0.9200, Validation Accuracy: 0.9052, Loss: 0.0888\n",
      "Epoch   1 Batch  560/689 - Train Accuracy: 0.9145, Validation Accuracy: 0.9082, Loss: 0.1034\n",
      "Epoch   1 Batch  580/689 - Train Accuracy: 0.9227, Validation Accuracy: 0.9105, Loss: 0.1034\n",
      "Epoch   1 Batch  600/689 - Train Accuracy: 0.9335, Validation Accuracy: 0.9039, Loss: 0.1120\n",
      "Epoch   1 Batch  620/689 - Train Accuracy: 0.9167, Validation Accuracy: 0.9130, Loss: 0.1018\n",
      "Epoch   1 Batch  640/689 - Train Accuracy: 0.9225, Validation Accuracy: 0.8980, Loss: 0.0780\n",
      "Epoch   1 Batch  660/689 - Train Accuracy: 0.9255, Validation Accuracy: 0.9020, Loss: 0.0960\n",
      "Epoch   1 Batch  680/689 - Train Accuracy: 0.9048, Validation Accuracy: 0.8927, Loss: 0.1011\n",
      "Epoch   2 Batch   20/689 - Train Accuracy: 0.9126, Validation Accuracy: 0.9136, Loss: 0.0837\n",
      "Epoch   2 Batch   40/689 - Train Accuracy: 0.9279, Validation Accuracy: 0.9109, Loss: 0.0831\n",
      "Epoch   2 Batch   60/689 - Train Accuracy: 0.9426, Validation Accuracy: 0.9002, Loss: 0.0926\n",
      "Epoch   2 Batch   80/689 - Train Accuracy: 0.9326, Validation Accuracy: 0.9095, Loss: 0.0817\n",
      "Epoch   2 Batch  100/689 - Train Accuracy: 0.9007, Validation Accuracy: 0.9118, Loss: 0.0772\n",
      "Epoch   2 Batch  120/689 - Train Accuracy: 0.9103, Validation Accuracy: 0.9120, Loss: 0.0875\n",
      "Epoch   2 Batch  140/689 - Train Accuracy: 0.9477, Validation Accuracy: 0.9141, Loss: 0.0681\n",
      "Epoch   2 Batch  160/689 - Train Accuracy: 0.9314, Validation Accuracy: 0.9241, Loss: 0.0875\n",
      "Epoch   2 Batch  180/689 - Train Accuracy: 0.9205, Validation Accuracy: 0.9145, Loss: 0.0960\n",
      "Epoch   2 Batch  200/689 - Train Accuracy: 0.9160, Validation Accuracy: 0.8998, Loss: 0.0730\n",
      "Epoch   2 Batch  220/689 - Train Accuracy: 0.9062, Validation Accuracy: 0.9036, Loss: 0.0895\n",
      "Epoch   2 Batch  240/689 - Train Accuracy: 0.9293, Validation Accuracy: 0.8998, Loss: 0.0807\n",
      "Epoch   2 Batch  260/689 - Train Accuracy: 0.9217, Validation Accuracy: 0.9098, Loss: 0.0952\n",
      "Epoch   2 Batch  280/689 - Train Accuracy: 0.9055, Validation Accuracy: 0.9189, Loss: 0.0822\n",
      "Epoch   2 Batch  300/689 - Train Accuracy: 0.9353, Validation Accuracy: 0.9259, Loss: 0.0770\n",
      "Epoch   2 Batch  320/689 - Train Accuracy: 0.9230, Validation Accuracy: 0.9134, Loss: 0.0664\n",
      "Epoch   2 Batch  340/689 - Train Accuracy: 0.9190, Validation Accuracy: 0.9105, Loss: 0.0968\n",
      "Epoch   2 Batch  360/689 - Train Accuracy: 0.9093, Validation Accuracy: 0.8959, Loss: 0.1061\n",
      "Epoch   2 Batch  380/689 - Train Accuracy: 0.9255, Validation Accuracy: 0.9127, Loss: 0.0899\n",
      "Epoch   2 Batch  400/689 - Train Accuracy: 0.9136, Validation Accuracy: 0.9273, Loss: 0.0769\n",
      "Epoch   2 Batch  420/689 - Train Accuracy: 0.9430, Validation Accuracy: 0.9311, Loss: 0.0743\n"
     ]
    },
    {
     "name": "stdout",
     "output_type": "stream",
     "text": [
      "Epoch   2 Batch  440/689 - Train Accuracy: 0.9553, Validation Accuracy: 0.9107, Loss: 0.0710\n",
      "Epoch   2 Batch  460/689 - Train Accuracy: 0.9143, Validation Accuracy: 0.9327, Loss: 0.0806\n",
      "Epoch   2 Batch  480/689 - Train Accuracy: 0.9515, Validation Accuracy: 0.9184, Loss: 0.0705\n",
      "Epoch   2 Batch  500/689 - Train Accuracy: 0.9133, Validation Accuracy: 0.9157, Loss: 0.0772\n",
      "Epoch   2 Batch  520/689 - Train Accuracy: 0.9119, Validation Accuracy: 0.8973, Loss: 0.0828\n",
      "Epoch   2 Batch  540/689 - Train Accuracy: 0.9298, Validation Accuracy: 0.9198, Loss: 0.0703\n",
      "Epoch   2 Batch  560/689 - Train Accuracy: 0.9275, Validation Accuracy: 0.9305, Loss: 0.0802\n",
      "Epoch   2 Batch  580/689 - Train Accuracy: 0.9400, Validation Accuracy: 0.9380, Loss: 0.0815\n",
      "Epoch   2 Batch  600/689 - Train Accuracy: 0.9363, Validation Accuracy: 0.9148, Loss: 0.0743\n",
      "Epoch   2 Batch  620/689 - Train Accuracy: 0.9148, Validation Accuracy: 0.9127, Loss: 0.0842\n",
      "Epoch   2 Batch  640/689 - Train Accuracy: 0.9202, Validation Accuracy: 0.9182, Loss: 0.0641\n",
      "Epoch   2 Batch  660/689 - Train Accuracy: 0.9398, Validation Accuracy: 0.9218, Loss: 0.0887\n",
      "Epoch   2 Batch  680/689 - Train Accuracy: 0.9260, Validation Accuracy: 0.9155, Loss: 0.0790\n",
      "Model Trained and Saved\n"
     ]
    }
   ],
   "source": [
    "\"\"\"\n",
    "DON'T MODIFY ANYTHING IN THIS CELL\n",
    "\"\"\"\n",
    "def get_accuracy(target, logits):\n",
    "    \"\"\"\n",
    "    Calculate accuracy\n",
    "    \"\"\"\n",
    "    max_seq = max(target.shape[1], logits.shape[1])\n",
    "    if max_seq - target.shape[1]:\n",
    "        target = np.pad(\n",
    "            target,\n",
    "            [(0,0),(0,max_seq - target.shape[1])],\n",
    "            'constant')\n",
    "    if max_seq - logits.shape[1]:\n",
    "        logits = np.pad(\n",
    "            logits,\n",
    "            [(0,0),(0,max_seq - logits.shape[1])],\n",
    "            'constant')\n",
    "\n",
    "    return np.mean(np.equal(target, logits))\n",
    "\n",
    "# Split data to training and validation sets\n",
    "train_source = source_int_text[batch_size:]\n",
    "train_target = target_int_text[batch_size:]\n",
    "valid_source = source_int_text[:batch_size]\n",
    "valid_target = target_int_text[:batch_size]\n",
    "(valid_sources_batch, valid_targets_batch, valid_sources_lengths, valid_targets_lengths ) = next(get_batches(valid_source,\n",
    "                                                                                                             valid_target,\n",
    "                                                                                                             batch_size,\n",
    "                                                                                                             source_vocab_to_int['<PAD>'],\n",
    "                                                                                                             target_vocab_to_int['<PAD>']))                                                                                                  \n",
    "with tf.Session(graph=train_graph) as sess:\n",
    "    sess.run(tf.global_variables_initializer())\n",
    "\n",
    "    for epoch_i in range(epochs):\n",
    "        for batch_i, (source_batch, target_batch, sources_lengths, targets_lengths) in enumerate(\n",
    "                get_batches(train_source, train_target, batch_size,\n",
    "                            source_vocab_to_int['<PAD>'],\n",
    "                            target_vocab_to_int['<PAD>'])):\n",
    "\n",
    "            _, loss = sess.run(\n",
    "                [train_op, cost],\n",
    "                {input_data: source_batch,\n",
    "                 targets: target_batch,\n",
    "                 lr: learning_rate,\n",
    "                 target_sequence_length: targets_lengths,\n",
    "                 source_sequence_length: sources_lengths,\n",
    "                 keep_prob: keep_probability})\n",
    "\n",
    "\n",
    "            if batch_i % display_step == 0 and batch_i > 0:\n",
    "\n",
    "\n",
    "                batch_train_logits = sess.run(\n",
    "                    inference_logits,\n",
    "                    {input_data: source_batch,\n",
    "                     source_sequence_length: sources_lengths,\n",
    "                     target_sequence_length: targets_lengths,\n",
    "                     keep_prob: 1.0})\n",
    "\n",
    "\n",
    "                batch_valid_logits = sess.run(\n",
    "                    inference_logits,\n",
    "                    {input_data: valid_sources_batch,\n",
    "                     source_sequence_length: valid_sources_lengths,\n",
    "                     target_sequence_length: valid_targets_lengths,\n",
    "                     keep_prob: 1.0})\n",
    "\n",
    "                train_acc = get_accuracy(target_batch, batch_train_logits)\n",
    "\n",
    "                valid_acc = get_accuracy(valid_targets_batch, batch_valid_logits)\n",
    "\n",
    "                print('Epoch {:>3} Batch {:>4}/{} - Train Accuracy: {:>6.4f}, Validation Accuracy: {:>6.4f}, Loss: {:>6.4f}'\n",
    "                      .format(epoch_i, batch_i, len(source_int_text) // batch_size, train_acc, valid_acc, loss))\n",
    "\n",
    "    # Save Model\n",
    "    saver = tf.train.Saver()\n",
    "    saver.save(sess, save_path)\n",
    "    print('Model Trained and Saved')"
   ]
  },
  {
   "cell_type": "markdown",
   "metadata": {},
   "source": [
    "### Save Parameters\n",
    "Save the `batch_size` and `save_path` parameters for inference."
   ]
  },
  {
   "cell_type": "code",
   "execution_count": 49,
   "metadata": {},
   "outputs": [],
   "source": [
    "\"\"\"\n",
    "DON'T MODIFY ANYTHING IN THIS CELL\n",
    "\"\"\"\n",
    "# Save parameters for checkpoint\n",
    "helper.save_params(save_path)"
   ]
  },
  {
   "cell_type": "markdown",
   "metadata": {},
   "source": [
    "# Checkpoint"
   ]
  },
  {
   "cell_type": "code",
   "execution_count": 50,
   "metadata": {},
   "outputs": [],
   "source": [
    "\"\"\"\n",
    "DON'T MODIFY ANYTHING IN THIS CELL\n",
    "\"\"\"\n",
    "import tensorflow as tf\n",
    "import numpy as np\n",
    "import helper\n",
    "import problem_unittests as tests\n",
    "\n",
    "_, (source_vocab_to_int, target_vocab_to_int), (source_int_to_vocab, target_int_to_vocab) = helper.load_preprocess()\n",
    "load_path = helper.load_params()"
   ]
  },
  {
   "cell_type": "markdown",
   "metadata": {},
   "source": [
    "## Sentence to Sequence\n",
    "To feed a sentence into the model for translation, you first need to preprocess it.  Implement the function `sentence_to_seq()` to preprocess new sentences.\n",
    "\n",
    "- Convert the sentence to lowercase\n",
    "- Convert words into ids using `vocab_to_int`\n",
    " - Convert words not in the vocabulary, to the `<UNK>` word id."
   ]
  },
  {
   "cell_type": "code",
   "execution_count": 51,
   "metadata": {},
   "outputs": [
    {
     "name": "stdout",
     "output_type": "stream",
     "text": [
      "Tests Passed\n"
     ]
    }
   ],
   "source": [
    "def sentence_to_seq(sentence, vocab_to_int):\n",
    "    \"\"\"\n",
    "    Convert a sentence to a sequence of ids\n",
    "    :param sentence: String\n",
    "    :param vocab_to_int: Dictionary to go from the words to an id\n",
    "    :return: List of word ids\n",
    "    \"\"\"\n",
    "    # TODO: Implement Function\n",
    "    def get_word_int(word):\n",
    "        if word in vocab_to_int:\n",
    "            return vocab_to_int[word]\n",
    "        return vocab_to_int['<UNK>']\n",
    "    sentence = [get_word_int(word) for word in sentence.split()]\n",
    "    return sentence\n",
    "    \n",
    "\"\"\"\n",
    "DON'T MODIFY ANYTHING IN THIS CELL THAT IS BELOW THIS LINE\n",
    "\"\"\"\n",
    "tests.test_sentence_to_seq(sentence_to_seq)"
   ]
  },
  {
   "cell_type": "markdown",
   "metadata": {},
   "source": [
    "## Translate\n",
    "This will translate `translate_sentence` from English to French."
   ]
  },
  {
   "cell_type": "code",
   "execution_count": 52,
   "metadata": {},
   "outputs": [
    {
     "name": "stdout",
     "output_type": "stream",
     "text": [
      "INFO:tensorflow:Restoring parameters from checkpoints/dev\n",
      "Input\n",
      "  Word Ids:      [170, 78, 11, 197, 160, 103, 62]\n",
      "  English Words: ['he', 'saw', 'a', 'old', 'yellow', 'truck', '.']\n",
      "\n",
      "Prediction\n",
      "  Word Ids:      [211, 178, 105, 291, 88, 296, 284, 98, 1]\n",
      "  French Words: il a vu un vieux camion jaune . <EOS>\n"
     ]
    }
   ],
   "source": [
    "translate_sentence = 'he saw a old yellow truck .'\n",
    "\n",
    "\n",
    "\"\"\"\n",
    "DON'T MODIFY ANYTHING IN THIS CELL\n",
    "\"\"\"\n",
    "translate_sentence = sentence_to_seq(translate_sentence, source_vocab_to_int)\n",
    "\n",
    "loaded_graph = tf.Graph()\n",
    "with tf.Session(graph=loaded_graph) as sess:\n",
    "    # Load saved model\n",
    "    loader = tf.train.import_meta_graph(load_path + '.meta')\n",
    "    loader.restore(sess, load_path)\n",
    "\n",
    "    input_data = loaded_graph.get_tensor_by_name('input:0')\n",
    "    logits = loaded_graph.get_tensor_by_name('predictions:0')\n",
    "    target_sequence_length = loaded_graph.get_tensor_by_name('target_sequence_length:0')\n",
    "    source_sequence_length = loaded_graph.get_tensor_by_name('source_sequence_length:0')\n",
    "    keep_prob = loaded_graph.get_tensor_by_name('keep_prob:0')\n",
    "\n",
    "    translate_logits = sess.run(logits, {input_data: [translate_sentence]*batch_size,\n",
    "                                         target_sequence_length: [len(translate_sentence)*2]*batch_size,\n",
    "                                         source_sequence_length: [len(translate_sentence)]*batch_size,\n",
    "                                         keep_prob: 1.0})[0]\n",
    "\n",
    "print('Input')\n",
    "print('  Word Ids:      {}'.format([i for i in translate_sentence]))\n",
    "print('  English Words: {}'.format([source_int_to_vocab[i] for i in translate_sentence]))\n",
    "\n",
    "print('\\nPrediction')\n",
    "print('  Word Ids:      {}'.format([i for i in translate_logits]))\n",
    "print('  French Words: {}'.format(\" \".join([target_int_to_vocab[i] for i in translate_logits])))\n"
   ]
  },
  {
   "cell_type": "markdown",
   "metadata": {},
   "source": [
    "## Imperfect Translation\n",
    "You might notice that some sentences translate better than others.  Since the dataset you're using only has a vocabulary of 227 English words of the thousands that you use, you're only going to see good results using these words.  For this project, you don't need a perfect translation. However, if you want to create a better translation model, you'll need better data.\n",
    "\n",
    "You can train on the [WMT10 French-English corpus](http://www.statmt.org/wmt10/training-giga-fren.tar).  This dataset has more vocabulary and richer in topics discussed.  However, this will take you days to train, so make sure you've a GPU and the neural network is performing well on dataset we provided.  Just make sure you play with the WMT10 corpus after you've submitted this project.\n",
    "## Submitting This Project\n",
    "When submitting this project, make sure to run all the cells before saving the notebook. Save the notebook file as \"dlnd_language_translation.ipynb\" and save it as a HTML file under \"File\" -> \"Download as\". Include the \"helper.py\" and \"problem_unittests.py\" files in your submission."
   ]
  }
 ],
 "metadata": {
  "anaconda-cloud": {},
  "kernelspec": {
   "display_name": "Python 3",
   "language": "python",
   "name": "python3"
  },
  "language_info": {
   "codemirror_mode": {
    "name": "ipython",
    "version": 3
   },
   "file_extension": ".py",
   "mimetype": "text/x-python",
   "name": "python",
   "nbconvert_exporter": "python",
   "pygments_lexer": "ipython3",
   "version": "3.6.2"
  }
 },
 "nbformat": 4,
 "nbformat_minor": 1
}
